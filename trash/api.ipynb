{
 "cells": [
  {
   "cell_type": "code",
   "execution_count": 1,
   "metadata": {
    "collapsed": false
   },
   "outputs": [],
   "source": [
    "import requests\n",
    "from bs4 import BeautifulSoup\n",
    "from tqdm import tqdm_notebook as tqdm"
   ]
  },
  {
   "cell_type": "markdown",
   "metadata": {},
   "source": [
    "$$$$"
   ]
  },
  {
   "cell_type": "code",
   "execution_count": 8,
   "metadata": {
    "collapsed": true
   },
   "outputs": [],
   "source": [
    "def fetch_information_by_url(url):\n",
    "    try:\n",
    "        html = requests.get(url).text\n",
    "        root = BeautifulSoup(html, \"html.parser\")\n",
    "\n",
    "        # Get header\n",
    "        header = root.findAll('h1', {'class': 'title-lg'})[0].text\n",
    "\n",
    "        # Get main text\n",
    "        text =  root.findAll('div', {'class': 'program'})[0].text\n",
    "\n",
    "        main_div =  root.findAll('div', {'class': 'container-fluid'})[2].text\n",
    "        \n",
    "        if 'За посещение данного мероприятия начисляются баллы:' in main_div:\n",
    "            balls = list(filter(lambda x: len(x) > 0, main_div.split('За посещение данного мероприятия начисляются баллы:')[-1].split(\"\\n\")))\n",
    "        else:\n",
    "            balls = None\n",
    "        return [header, text, balls]\n",
    "    except:\n",
    "        pass"
   ]
  },
  {
   "cell_type": "code",
   "execution_count": 9,
   "metadata": {
    "collapsed": false
   },
   "outputs": [],
   "source": [
    "text = fetch_information_by_url(\"https://leader-id.ru/event/4457/\")"
   ]
  },
  {
   "cell_type": "code",
   "execution_count": 10,
   "metadata": {
    "collapsed": false
   },
   "outputs": [],
   "source": [
    "all_courses = []\n",
    "max_id = tqdm(range(5777))"
   ]
  },
  {
   "cell_type": "code",
   "execution_count": 11,
   "metadata": {
    "collapsed": false,
    "scrolled": true
   },
   "outputs": [
    {
     "name": "stdout",
     "output_type": "stream",
     "text": [
      "\n"
     ]
    }
   ],
   "source": [
    "for i in max_id:\n",
    "    info = fetch_information_by_url(\"https://leader-id.ru/event/%s/\" % i)\n",
    "    \n",
    "    if info != None:\n",
    "        all_courses.append(info + [i])\n",
    "    \n",
    "    max_id.set_description(str(len(all_courses)))"
   ]
  },
  {
   "cell_type": "code",
   "execution_count": 6,
   "metadata": {
    "collapsed": true
   },
   "outputs": [],
   "source": [
    "import pickle"
   ]
  },
  {
   "cell_type": "code",
   "execution_count": 7,
   "metadata": {
    "collapsed": true
   },
   "outputs": [],
   "source": [
    "#pickle.dump(all_courses, open(\"all_courses.pck\", 'wb'))"
   ]
  },
  {
   "cell_type": "code",
   "execution_count": null,
   "metadata": {
    "collapsed": true
   },
   "outputs": [],
   "source": []
  }
 ],
 "metadata": {
  "kernelspec": {
   "display_name": "Python 3",
   "language": "python",
   "name": "python3"
  },
  "language_info": {
   "codemirror_mode": {
    "name": "ipython",
    "version": 3
   },
   "file_extension": ".py",
   "mimetype": "text/x-python",
   "name": "python",
   "nbconvert_exporter": "python",
   "pygments_lexer": "ipython3",
   "version": "3.6.0"
  },
  "widgets": {
   "state": {
    "4ca8195fe97c4f7e8b29b1c5073b2847": {
     "views": [
      {
       "cell_index": 4.0
      }
     ]
    }
   },
   "version": "1.2.0"
  }
 },
 "nbformat": 4,
 "nbformat_minor": 2
}
