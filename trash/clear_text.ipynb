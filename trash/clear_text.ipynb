{
 "cells": [
  {
   "cell_type": "code",
   "execution_count": 57,
   "metadata": {
    "ExecuteTime": {
     "end_time": "2017-08-21T01:31:38.201607Z",
     "start_time": "2017-08-21T01:31:38.131396Z"
    },
    "collapsed": false
   },
   "outputs": [],
   "source": [
    "import pymorphy2\n",
    "import re\n",
    "from many_stop_words import get_stop_words\n",
    "\n",
    "morph = pymorphy2.MorphAnalyzer()\n",
    "\n",
    "already = {}\n",
    "stopword_list = list(get_stop_words('ru')) + black_list\n",
    "\n",
    "def clear_text(text):\n",
    "    tmp_string = ''\n",
    "\n",
    "    for word in re.findall(r'\\w+', text.lower()):\n",
    "        \n",
    "        if word not in already:    \n",
    "            normal = morph.parse(word)[0].normal_form\n",
    "            \n",
    "            if normal in stopword_list:\n",
    "                normal = ''\n",
    "            \n",
    "            already[word] = \"\" if word == normal else normal\n",
    "            \n",
    "        tmp_string += already[word] + ' '\n",
    "    \n",
    "    return ' '.join(list(filter(lambda x: len(x) > 0, tmp_string.split(\" \"))))"
   ]
  },
  {
   "cell_type": "code",
   "execution_count": 59,
   "metadata": {
    "ExecuteTime": {
     "end_time": "2017-08-21T01:31:39.974279Z",
     "start_time": "2017-08-21T01:31:39.942661Z"
    },
    "collapsed": false
   },
   "outputs": [
    {
     "data": {
      "text/plain": [
       "'домашний предложить автоматический быстрый обратный сила количество участник преподаватель индивидуальный совет однокурсник комментарий присутствовать повышенный сложность необязательный желающий голова придумывание подготовить институт биоинформатика'"
      ]
     },
     "execution_count": 59,
     "metadata": {},
     "output_type": "execute_result"
    }
   ],
   "source": [
    "clear_text('''<p id=\"ember1436\" class=\"ember-view\">В этом курсе по программированию на языке Python вы познакомитесь с базовыми понятиями программирования.\n",
    "<br>\n",
    "Едва ли возможно научиться программировать без практики, поэтому в качестве домашних заданий вам будет предложено довольно много задач, в которых вы сможете потренировать своё умение программировать.\n",
    "<br>\n",
    "Ваши решения будут проверяться автоматической системой, поэтому вы будете получать быструю обратную связь. В силу большого количества участников курса, преподаватели не смогут давать индивидуальных советов по каждой программе, но если у вас будут возникать проблемы, то их всегда можно обсудить с однокурсниками в комментариях к задачам.\n",
    "<br>\n",
    "Также в курсе присутствует несколько задач повышенной сложности, которые являются необязательными для прохождения курса, однако желающие смогут поломать голову над придумыванием алгоритмов и реализацией программ к этим задачам.\n",
    "<br>\n",
    "Курс подготовлен на базе программы <a href=\"http://bioinformaticsinstitute.ru/\">Института биоинформатики</a>.\n",
    "</p>''')"
   ]
  },
  {
   "cell_type": "markdown",
   "metadata": {},
   "source": [
    "$$$$$$$$$$$$$$$$"
   ]
  },
  {
   "cell_type": "code",
   "execution_count": 60,
   "metadata": {
    "ExecuteTime": {
     "end_time": "2017-08-21T01:31:41.182161Z",
     "start_time": "2017-08-21T01:31:40.935238Z"
    },
    "collapsed": true
   },
   "outputs": [],
   "source": [
    "import pickle\n",
    "import pandas as pd"
   ]
  },
  {
   "cell_type": "markdown",
   "metadata": {},
   "source": [
    "# LeaderID"
   ]
  },
  {
   "cell_type": "code",
   "execution_count": 61,
   "metadata": {
    "ExecuteTime": {
     "end_time": "2017-08-21T01:31:41.939007Z",
     "start_time": "2017-08-21T01:31:41.835606Z"
    },
    "collapsed": true
   },
   "outputs": [],
   "source": [
    "leader_id_events = [[i[0] + \" \" + i[1], i[-1]] for i in pickle.load(open('all_courses.pck', 'rb'))]"
   ]
  },
  {
   "cell_type": "code",
   "execution_count": 62,
   "metadata": {
    "ExecuteTime": {
     "end_time": "2017-08-21T01:31:42.000323Z",
     "start_time": "2017-08-21T01:31:41.995029Z"
    },
    "collapsed": false
   },
   "outputs": [],
   "source": [
    "leader_id = pd.DataFrame(leader_id_events, columns=['text', 'index'])"
   ]
  },
  {
   "cell_type": "code",
   "execution_count": 63,
   "metadata": {
    "ExecuteTime": {
     "end_time": "2017-08-21T01:31:50.228182Z",
     "start_time": "2017-08-21T01:31:42.197511Z"
    },
    "collapsed": false
   },
   "outputs": [],
   "source": [
    "leader_id['text'] = list(map(clear_text, leader_id['text']))"
   ]
  },
  {
   "cell_type": "code",
   "execution_count": 64,
   "metadata": {
    "ExecuteTime": {
     "end_time": "2017-08-21T01:31:50.231525Z",
     "start_time": "2017-08-21T01:31:50.229058Z"
    },
    "collapsed": false
   },
   "outputs": [],
   "source": [
    "leader_id['type'] = 'leader-id'"
   ]
  },
  {
   "cell_type": "code",
   "execution_count": 65,
   "metadata": {
    "ExecuteTime": {
     "end_time": "2017-08-21T01:31:50.327172Z",
     "start_time": "2017-08-21T01:31:50.232577Z"
    },
    "collapsed": false
   },
   "outputs": [],
   "source": [
    "leader_id['url'] = list(map(lambda x: 'https://leader-id.ru/event/%s/' % x, leader_id['index']))"
   ]
  },
  {
   "cell_type": "code",
   "execution_count": 66,
   "metadata": {
    "ExecuteTime": {
     "end_time": "2017-08-21T01:31:50.413080Z",
     "start_time": "2017-08-21T01:31:50.329143Z"
    },
    "collapsed": true
   },
   "outputs": [],
   "source": [
    "del leader_id['index']"
   ]
  },
  {
   "cell_type": "code",
   "execution_count": 67,
   "metadata": {
    "ExecuteTime": {
     "end_time": "2017-08-21T01:31:50.497149Z",
     "start_time": "2017-08-21T01:31:50.415045Z"
    },
    "collapsed": false
   },
   "outputs": [
    {
     "data": {
      "text/html": [
       "<div>\n",
       "<style>\n",
       "    .dataframe thead tr:only-child th {\n",
       "        text-align: right;\n",
       "    }\n",
       "\n",
       "    .dataframe thead th {\n",
       "        text-align: left;\n",
       "    }\n",
       "\n",
       "    .dataframe tbody tr th {\n",
       "        vertical-align: top;\n",
       "    }\n",
       "</style>\n",
       "<table border=\"1\" class=\"dataframe\">\n",
       "  <thead>\n",
       "    <tr style=\"text-align: right;\">\n",
       "      <th></th>\n",
       "      <th>text</th>\n",
       "      <th>type</th>\n",
       "      <th>url</th>\n",
       "    </tr>\n",
       "  </thead>\n",
       "  <tbody>\n",
       "    <tr>\n",
       "      <th>0</th>\n",
       "      <td>сентябрь владивосток пройти немой принять ася ...</td>\n",
       "      <td>leader-id</td>\n",
       "      <td>https://leader-id.ru/event/102/</td>\n",
       "    </tr>\n",
       "    <tr>\n",
       "      <th>1</th>\n",
       "      <td>доступ закупка инфраструктурный монополия госу...</td>\n",
       "      <td>leader-id</td>\n",
       "      <td>https://leader-id.ru/event/103/</td>\n",
       "    </tr>\n",
       "    <tr>\n",
       "      <th>2</th>\n",
       "      <td>cоко сентябрь пройти официальный агентство стр...</td>\n",
       "      <td>leader-id</td>\n",
       "      <td>https://leader-id.ru/event/104/</td>\n",
       "    </tr>\n",
       "    <tr>\n",
       "      <th>3</th>\n",
       "      <td>журналист успех престижный имидж предпринимате...</td>\n",
       "      <td>leader-id</td>\n",
       "      <td>https://leader-id.ru/event/105/</td>\n",
       "    </tr>\n",
       "    <tr>\n",
       "      <th>4</th>\n",
       "      <td>гость фестиваль зритель популярный эксперимент...</td>\n",
       "      <td>leader-id</td>\n",
       "      <td>https://leader-id.ru/event/106/</td>\n",
       "    </tr>\n",
       "  </tbody>\n",
       "</table>\n",
       "</div>"
      ],
      "text/plain": [
       "                                                text       type  \\\n",
       "0  сентябрь владивосток пройти немой принять ася ...  leader-id   \n",
       "1  доступ закупка инфраструктурный монополия госу...  leader-id   \n",
       "2  cоко сентябрь пройти официальный агентство стр...  leader-id   \n",
       "3  журналист успех престижный имидж предпринимате...  leader-id   \n",
       "4  гость фестиваль зритель популярный эксперимент...  leader-id   \n",
       "\n",
       "                               url  \n",
       "0  https://leader-id.ru/event/102/  \n",
       "1  https://leader-id.ru/event/103/  \n",
       "2  https://leader-id.ru/event/104/  \n",
       "3  https://leader-id.ru/event/105/  \n",
       "4  https://leader-id.ru/event/106/  "
      ]
     },
     "execution_count": 67,
     "metadata": {},
     "output_type": "execute_result"
    }
   ],
   "source": [
    "leader_id.head()"
   ]
  },
  {
   "cell_type": "code",
   "execution_count": 68,
   "metadata": {
    "ExecuteTime": {
     "end_time": "2017-08-21T01:31:50.580014Z",
     "start_time": "2017-08-21T01:31:50.499096Z"
    },
    "collapsed": true
   },
   "outputs": [],
   "source": [
    "leader_id_specials = pd.DataFrame.from_csv('leader-id_special.csv')"
   ]
  },
  {
   "cell_type": "code",
   "execution_count": 69,
   "metadata": {
    "ExecuteTime": {
     "end_time": "2017-08-21T01:31:50.724600Z",
     "start_time": "2017-08-21T01:31:50.582004Z"
    },
    "collapsed": false
   },
   "outputs": [],
   "source": [
    "leader_id_specials['text'] = list(map(clear_text, leader_id_specials['text']))"
   ]
  },
  {
   "cell_type": "code",
   "execution_count": 70,
   "metadata": {
    "ExecuteTime": {
     "end_time": "2017-08-21T01:31:50.745992Z",
     "start_time": "2017-08-21T01:31:50.725786Z"
    },
    "collapsed": true
   },
   "outputs": [],
   "source": [
    "leader_id_specials = leader_id_specials[leader_id_specials['text'].str.len() > 0]"
   ]
  },
  {
   "cell_type": "code",
   "execution_count": 71,
   "metadata": {
    "ExecuteTime": {
     "end_time": "2017-08-21T01:31:50.821394Z",
     "start_time": "2017-08-21T01:31:50.747301Z"
    },
    "collapsed": false
   },
   "outputs": [],
   "source": [
    "special_to_header = {x[0]: x[1] for x in zip(leader_id_specials['url'], leader_id_specials['header'])}"
   ]
  },
  {
   "cell_type": "code",
   "execution_count": 72,
   "metadata": {
    "ExecuteTime": {
     "end_time": "2017-08-21T01:31:50.896618Z",
     "start_time": "2017-08-21T01:31:50.823806Z"
    },
    "collapsed": true
   },
   "outputs": [],
   "source": [
    "del leader_id_specials['header']"
   ]
  },
  {
   "cell_type": "code",
   "execution_count": 73,
   "metadata": {
    "ExecuteTime": {
     "end_time": "2017-08-21T01:31:51.003332Z",
     "start_time": "2017-08-21T01:31:50.898947Z"
    },
    "collapsed": false
   },
   "outputs": [],
   "source": [
    "leader_id_specials['type'] = 'leader-id'"
   ]
  },
  {
   "cell_type": "code",
   "execution_count": 74,
   "metadata": {
    "ExecuteTime": {
     "end_time": "2017-08-21T01:31:51.089422Z",
     "start_time": "2017-08-21T01:31:51.005608Z"
    },
    "collapsed": false
   },
   "outputs": [
    {
     "data": {
      "text/html": [
       "<div>\n",
       "<style>\n",
       "    .dataframe thead tr:only-child th {\n",
       "        text-align: right;\n",
       "    }\n",
       "\n",
       "    .dataframe thead th {\n",
       "        text-align: left;\n",
       "    }\n",
       "\n",
       "    .dataframe tbody tr th {\n",
       "        vertical-align: top;\n",
       "    }\n",
       "</style>\n",
       "<table border=\"1\" class=\"dataframe\">\n",
       "  <thead>\n",
       "    <tr style=\"text-align: right;\">\n",
       "      <th></th>\n",
       "      <th>url</th>\n",
       "      <th>text</th>\n",
       "      <th>type</th>\n",
       "    </tr>\n",
       "  </thead>\n",
       "  <tbody>\n",
       "    <tr>\n",
       "      <th>0</th>\n",
       "      <td>https://leader-id.ru/specials/national-technol...</td>\n",
       "      <td>национальный мера формирование глобальный лиде...</td>\n",
       "      <td>leader-id</td>\n",
       "    </tr>\n",
       "    <tr>\n",
       "      <th>4</th>\n",
       "      <td>https://leader-id.ru/specials/investclimat/</td>\n",
       "      <td>участвовать мониторинг публичный обсуждение до...</td>\n",
       "      <td>leader-id</td>\n",
       "    </tr>\n",
       "    <tr>\n",
       "      <th>6</th>\n",
       "      <td>https://leader-id.ru/specials/educational_lect...</td>\n",
       "      <td>агентство стратегический инициатива подготовит...</td>\n",
       "      <td>leader-id</td>\n",
       "    </tr>\n",
       "    <tr>\n",
       "      <th>9</th>\n",
       "      <td>https://leader-id.ru/specials/global-managemen...</td>\n",
       "      <td>открытый лежать тренажёр давать месяц глобальный</td>\n",
       "      <td>leader-id</td>\n",
       "    </tr>\n",
       "    <tr>\n",
       "      <th>12</th>\n",
       "      <td>https://leader-id.ru/specials/national-technol...</td>\n",
       "      <td>национальный мера формирование глобальный лиде...</td>\n",
       "      <td>leader-id</td>\n",
       "    </tr>\n",
       "  </tbody>\n",
       "</table>\n",
       "</div>"
      ],
      "text/plain": [
       "                                                  url  \\\n",
       "0   https://leader-id.ru/specials/national-technol...   \n",
       "4         https://leader-id.ru/specials/investclimat/   \n",
       "6   https://leader-id.ru/specials/educational_lect...   \n",
       "9   https://leader-id.ru/specials/global-managemen...   \n",
       "12  https://leader-id.ru/specials/national-technol...   \n",
       "\n",
       "                                                 text       type  \n",
       "0   национальный мера формирование глобальный лиде...  leader-id  \n",
       "4   участвовать мониторинг публичный обсуждение до...  leader-id  \n",
       "6   агентство стратегический инициатива подготовит...  leader-id  \n",
       "9    открытый лежать тренажёр давать месяц глобальный  leader-id  \n",
       "12  национальный мера формирование глобальный лиде...  leader-id  "
      ]
     },
     "execution_count": 74,
     "metadata": {},
     "output_type": "execute_result"
    }
   ],
   "source": [
    "leader_id_specials.head()"
   ]
  },
  {
   "cell_type": "markdown",
   "metadata": {},
   "source": [
    "# Stepic"
   ]
  },
  {
   "cell_type": "code",
   "execution_count": 75,
   "metadata": {
    "ExecuteTime": {
     "end_time": "2017-08-21T01:31:51.168250Z",
     "start_time": "2017-08-21T01:31:51.091535Z"
    },
    "collapsed": false
   },
   "outputs": [],
   "source": [
    "stepic_pck = pickle.load(open('stepik.pck', 'rb'))"
   ]
  },
  {
   "cell_type": "code",
   "execution_count": 76,
   "metadata": {
    "ExecuteTime": {
     "end_time": "2017-08-21T01:31:51.239696Z",
     "start_time": "2017-08-21T01:31:51.170136Z"
    },
    "collapsed": false
   },
   "outputs": [],
   "source": [
    "stepic = pd.DataFrame([[i[0], i[-1]] for i in stepic_pck], columns=['text', 'index'])"
   ]
  },
  {
   "cell_type": "code",
   "execution_count": 77,
   "metadata": {
    "ExecuteTime": {
     "end_time": "2017-08-21T01:31:51.327884Z",
     "start_time": "2017-08-21T01:31:51.241767Z"
    },
    "collapsed": false
   },
   "outputs": [],
   "source": [
    "stepic['text'] = list(map(lambda x: x.lower(), stepic['text']))"
   ]
  },
  {
   "cell_type": "code",
   "execution_count": 78,
   "metadata": {
    "ExecuteTime": {
     "end_time": "2017-08-21T01:31:52.229828Z",
     "start_time": "2017-08-21T01:31:51.329939Z"
    },
    "collapsed": false
   },
   "outputs": [],
   "source": [
    "stepic['text'] = list(map(clear_text, stepic['text']))"
   ]
  },
  {
   "cell_type": "code",
   "execution_count": 79,
   "metadata": {
    "ExecuteTime": {
     "end_time": "2017-08-21T01:31:52.233648Z",
     "start_time": "2017-08-21T01:31:52.231001Z"
    },
    "collapsed": false
   },
   "outputs": [],
   "source": [
    "stepic['type'] = 'stepic'"
   ]
  },
  {
   "cell_type": "code",
   "execution_count": 80,
   "metadata": {
    "ExecuteTime": {
     "end_time": "2017-08-21T01:31:52.308723Z",
     "start_time": "2017-08-21T01:31:52.234752Z"
    },
    "collapsed": true
   },
   "outputs": [],
   "source": [
    "stepic['url'] =  list(map(lambda x: 'https://stepik.org/course/%s/' % x, stepic['index']))"
   ]
  },
  {
   "cell_type": "code",
   "execution_count": 81,
   "metadata": {
    "ExecuteTime": {
     "end_time": "2017-08-21T01:31:52.381945Z",
     "start_time": "2017-08-21T01:31:52.311238Z"
    },
    "collapsed": false
   },
   "outputs": [],
   "source": [
    "stepic = stepic[stepic['text'].str.len() > 0]"
   ]
  },
  {
   "cell_type": "code",
   "execution_count": 82,
   "metadata": {
    "ExecuteTime": {
     "end_time": "2017-08-21T01:31:52.481600Z",
     "start_time": "2017-08-21T01:31:52.384000Z"
    },
    "collapsed": false
   },
   "outputs": [],
   "source": [
    "stepic['good'] = list(map(lambda x: len(x.split()) > 20, stepic['text']))"
   ]
  },
  {
   "cell_type": "code",
   "execution_count": 83,
   "metadata": {
    "ExecuteTime": {
     "end_time": "2017-08-21T01:31:52.547728Z",
     "start_time": "2017-08-21T01:31:52.483189Z"
    },
    "collapsed": true
   },
   "outputs": [],
   "source": [
    "stepic = stepic[stepic['good'] == True]"
   ]
  },
  {
   "cell_type": "code",
   "execution_count": 84,
   "metadata": {
    "ExecuteTime": {
     "end_time": "2017-08-21T01:31:52.617694Z",
     "start_time": "2017-08-21T01:31:52.549863Z"
    },
    "collapsed": false
   },
   "outputs": [],
   "source": [
    "stepic = stepic.drop_duplicates()"
   ]
  },
  {
   "cell_type": "code",
   "execution_count": 85,
   "metadata": {
    "ExecuteTime": {
     "end_time": "2017-08-21T01:31:52.680219Z",
     "start_time": "2017-08-21T01:31:52.619755Z"
    },
    "collapsed": true
   },
   "outputs": [],
   "source": [
    "del stepic['index']\n",
    "del stepic['good']"
   ]
  },
  {
   "cell_type": "code",
   "execution_count": 86,
   "metadata": {},
   "outputs": [
    {
     "data": {
      "text/html": [
       "<div>\n",
       "<style>\n",
       "    .dataframe thead tr:only-child th {\n",
       "        text-align: right;\n",
       "    }\n",
       "\n",
       "    .dataframe thead th {\n",
       "        text-align: left;\n",
       "    }\n",
       "\n",
       "    .dataframe tbody tr th {\n",
       "        vertical-align: top;\n",
       "    }\n",
       "</style>\n",
       "<table border=\"1\" class=\"dataframe\">\n",
       "  <thead>\n",
       "    <tr style=\"text-align: right;\">\n",
       "      <th></th>\n",
       "      <th>text</th>\n",
       "      <th>type</th>\n",
       "      <th>url</th>\n",
       "    </tr>\n",
       "  </thead>\n",
       "  <tbody>\n",
       "    <tr>\n",
       "      <th>45</th>\n",
       "      <td>сайт биткоина маркета прямая продажа тематика ...</td>\n",
       "      <td>stepic</td>\n",
       "      <td>https://stepik.org/course/3317/</td>\n",
       "    </tr>\n",
       "    <tr>\n",
       "      <th>62</th>\n",
       "      <td>обучиться главное возникать сервис вакансия ск...</td>\n",
       "      <td>stepic</td>\n",
       "      <td>https://stepik.org/course/3266/</td>\n",
       "    </tr>\n",
       "    <tr>\n",
       "      <th>80</th>\n",
       "      <td>случайность начинать непрерывный вероятностный...</td>\n",
       "      <td>stepic</td>\n",
       "      <td>https://stepik.org/course/3209/</td>\n",
       "    </tr>\n",
       "    <tr>\n",
       "      <th>83</th>\n",
       "      <td>учебник видеообъяснение максимальный балл экза...</td>\n",
       "      <td>stepic</td>\n",
       "      <td>https://stepik.org/course/3191/</td>\n",
       "    </tr>\n",
       "    <tr>\n",
       "      <th>85</th>\n",
       "      <td>ознакомительный создаваться поиск квалифициров...</td>\n",
       "      <td>stepic</td>\n",
       "      <td>https://stepik.org/course/3179/</td>\n",
       "    </tr>\n",
       "  </tbody>\n",
       "</table>\n",
       "</div>"
      ],
      "text/plain": [
       "                                                 text    type  \\\n",
       "45  сайт биткоина маркета прямая продажа тематика ...  stepic   \n",
       "62  обучиться главное возникать сервис вакансия ск...  stepic   \n",
       "80  случайность начинать непрерывный вероятностный...  stepic   \n",
       "83  учебник видеообъяснение максимальный балл экза...  stepic   \n",
       "85  ознакомительный создаваться поиск квалифициров...  stepic   \n",
       "\n",
       "                                url  \n",
       "45  https://stepik.org/course/3317/  \n",
       "62  https://stepik.org/course/3266/  \n",
       "80  https://stepik.org/course/3209/  \n",
       "83  https://stepik.org/course/3191/  \n",
       "85  https://stepik.org/course/3179/  "
      ]
     },
     "execution_count": 86,
     "metadata": {},
     "output_type": "execute_result"
    }
   ],
   "source": [
    "stepic.head()"
   ]
  },
  {
   "cell_type": "markdown",
   "metadata": {},
   "source": [
    "# Coursera"
   ]
  },
  {
   "cell_type": "code",
   "execution_count": 87,
   "metadata": {
    "ExecuteTime": {
     "end_time": "2017-08-21T01:31:52.765599Z",
     "start_time": "2017-08-21T01:31:52.682335Z"
    },
    "collapsed": true
   },
   "outputs": [],
   "source": [
    "coursera = pd.DataFrame.from_csv('coursera.csv')"
   ]
  },
  {
   "cell_type": "code",
   "execution_count": 88,
   "metadata": {
    "ExecuteTime": {
     "end_time": "2017-08-21T01:31:52.814307Z",
     "start_time": "2017-08-21T01:31:52.767815Z"
    },
    "collapsed": false
   },
   "outputs": [],
   "source": [
    "coursera.fillna('', inplace=True)"
   ]
  },
  {
   "cell_type": "code",
   "execution_count": 89,
   "metadata": {
    "ExecuteTime": {
     "end_time": "2017-08-21T01:31:52.881364Z",
     "start_time": "2017-08-21T01:31:52.816426Z"
    },
    "collapsed": false
   },
   "outputs": [],
   "source": [
    "coursera_to_add = pd.DataFrame()\n",
    "\n",
    "big_text = []\n",
    "texts_zip = zip(coursera['header'], coursera['description'], coursera['course_text'])\n",
    "\n",
    "for header, description, course in texts_zip:\n",
    "    tmp_text = header\n",
    "    \n",
    "    tmp_text += ' '\n",
    "    tmp_text += description\n",
    "    \n",
    "    tmp_text += ' '\n",
    "    tmp_text += course\n",
    "    \n",
    "    big_text.append(tmp_text)"
   ]
  },
  {
   "cell_type": "code",
   "execution_count": 90,
   "metadata": {
    "ExecuteTime": {
     "end_time": "2017-08-21T01:31:52.955830Z",
     "start_time": "2017-08-21T01:31:52.883509Z"
    },
    "collapsed": true
   },
   "outputs": [],
   "source": [
    "coursera_to_add['text'] = big_text"
   ]
  },
  {
   "cell_type": "code",
   "execution_count": 91,
   "metadata": {
    "ExecuteTime": {
     "end_time": "2017-08-21T01:31:53.720792Z",
     "start_time": "2017-08-21T01:31:52.957828Z"
    },
    "collapsed": true
   },
   "outputs": [],
   "source": [
    "coursera_to_add['text'] = list(map(clear_text, coursera_to_add['text']))"
   ]
  },
  {
   "cell_type": "code",
   "execution_count": 92,
   "metadata": {
    "ExecuteTime": {
     "end_time": "2017-08-21T01:31:53.724355Z",
     "start_time": "2017-08-21T01:31:53.721935Z"
    },
    "collapsed": false
   },
   "outputs": [],
   "source": [
    "coursera_to_add['url'] = coursera['link']"
   ]
  },
  {
   "cell_type": "code",
   "execution_count": 93,
   "metadata": {
    "ExecuteTime": {
     "end_time": "2017-08-21T01:31:53.821141Z",
     "start_time": "2017-08-21T01:31:53.725462Z"
    },
    "collapsed": true
   },
   "outputs": [],
   "source": [
    "coursera_to_add['type'] = 'coursera'"
   ]
  },
  {
   "cell_type": "code",
   "execution_count": 94,
   "metadata": {},
   "outputs": [
    {
     "data": {
      "text/html": [
       "<div>\n",
       "<style>\n",
       "    .dataframe thead tr:only-child th {\n",
       "        text-align: right;\n",
       "    }\n",
       "\n",
       "    .dataframe thead th {\n",
       "        text-align: left;\n",
       "    }\n",
       "\n",
       "    .dataframe tbody tr th {\n",
       "        vertical-align: top;\n",
       "    }\n",
       "</style>\n",
       "<table border=\"1\" class=\"dataframe\">\n",
       "  <thead>\n",
       "    <tr style=\"text-align: right;\">\n",
       "      <th></th>\n",
       "      <th>text</th>\n",
       "      <th>url</th>\n",
       "      <th>type</th>\n",
       "    </tr>\n",
       "  </thead>\n",
       "  <tbody>\n",
       "    <tr>\n",
       "      <th>0</th>\n",
       "      <td>популярный конструкция пригодиться широкий кру...</td>\n",
       "      <td>https://www.coursera.org/learn/python-osnovy-p...</td>\n",
       "      <td>coursera</td>\n",
       "    </tr>\n",
       "    <tr>\n",
       "      <th>1</th>\n",
       "      <td>поиск дело дело говорить найти душа прийтись в...</td>\n",
       "      <td>https://www.coursera.org/learn/prednaznachenie...</td>\n",
       "      <td>coursera</td>\n",
       "    </tr>\n",
       "    <tr>\n",
       "      <th>2</th>\n",
       "      <td>неэкономист главный грамотность образ мышление...</td>\n",
       "      <td>https://www.coursera.org/learn/ekonomika-dlya-...</td>\n",
       "      <td>coursera</td>\n",
       "    </tr>\n",
       "    <tr>\n",
       "      <th>3</th>\n",
       "      <td>жизненный сюжет разбираться косточка выяснятьс...</td>\n",
       "      <td>https://www.coursera.org/learn/matematika-dlya...</td>\n",
       "      <td>coursera</td>\n",
       "    </tr>\n",
       "    <tr>\n",
       "      <th>4</th>\n",
       "      <td>машинный показать проходить сбор выбор оптимал...</td>\n",
       "      <td>https://www.coursera.org/specializations/machi...</td>\n",
       "      <td>coursera</td>\n",
       "    </tr>\n",
       "  </tbody>\n",
       "</table>\n",
       "</div>"
      ],
      "text/plain": [
       "                                                text  \\\n",
       "0  популярный конструкция пригодиться широкий кру...   \n",
       "1  поиск дело дело говорить найти душа прийтись в...   \n",
       "2  неэкономист главный грамотность образ мышление...   \n",
       "3  жизненный сюжет разбираться косточка выяснятьс...   \n",
       "4  машинный показать проходить сбор выбор оптимал...   \n",
       "\n",
       "                                                 url      type  \n",
       "0  https://www.coursera.org/learn/python-osnovy-p...  coursera  \n",
       "1  https://www.coursera.org/learn/prednaznachenie...  coursera  \n",
       "2  https://www.coursera.org/learn/ekonomika-dlya-...  coursera  \n",
       "3  https://www.coursera.org/learn/matematika-dlya...  coursera  \n",
       "4  https://www.coursera.org/specializations/machi...  coursera  "
      ]
     },
     "execution_count": 94,
     "metadata": {},
     "output_type": "execute_result"
    }
   ],
   "source": [
    "coursera_to_add.head()"
   ]
  },
  {
   "cell_type": "markdown",
   "metadata": {},
   "source": [
    "# Openedu"
   ]
  },
  {
   "cell_type": "code",
   "execution_count": 95,
   "metadata": {},
   "outputs": [],
   "source": [
    "openedu = pd.DataFrame.from_csv('openedu.csv')"
   ]
  },
  {
   "cell_type": "code",
   "execution_count": 96,
   "metadata": {},
   "outputs": [],
   "source": [
    "openedu.fillna('', inplace=True)"
   ]
  },
  {
   "cell_type": "code",
   "execution_count": 97,
   "metadata": {},
   "outputs": [],
   "source": [
    "openedu_to_add = pd.DataFrame()\n",
    "\n",
    "big_text = []\n",
    "texts_zip = zip(openedu['title'], openedu['text'])\n",
    "\n",
    "for header, description in texts_zip:\n",
    "    tmp_text = header\n",
    "    \n",
    "    tmp_text += ' '\n",
    "    tmp_text += description\n",
    "    \n",
    "    big_text.append(tmp_text)"
   ]
  },
  {
   "cell_type": "code",
   "execution_count": 98,
   "metadata": {},
   "outputs": [],
   "source": [
    "openedu_to_add['text'] = list(map(clear_text, big_text))"
   ]
  },
  {
   "cell_type": "code",
   "execution_count": 99,
   "metadata": {},
   "outputs": [],
   "source": [
    "openedu_to_add['url'] = openedu['url']"
   ]
  },
  {
   "cell_type": "code",
   "execution_count": 100,
   "metadata": {},
   "outputs": [],
   "source": [
    "openedu_to_add['type'] = 'openedu'"
   ]
  },
  {
   "cell_type": "code",
   "execution_count": 101,
   "metadata": {},
   "outputs": [
    {
     "data": {
      "text/html": [
       "<div>\n",
       "<style>\n",
       "    .dataframe thead tr:only-child th {\n",
       "        text-align: right;\n",
       "    }\n",
       "\n",
       "    .dataframe thead th {\n",
       "        text-align: left;\n",
       "    }\n",
       "\n",
       "    .dataframe tbody tr th {\n",
       "        vertical-align: top;\n",
       "    }\n",
       "</style>\n",
       "<table border=\"1\" class=\"dataframe\">\n",
       "  <thead>\n",
       "    <tr style=\"text-align: right;\">\n",
       "      <th></th>\n",
       "      <th>text</th>\n",
       "      <th>url</th>\n",
       "      <th>type</th>\n",
       "    </tr>\n",
       "  </thead>\n",
       "  <tbody>\n",
       "    <tr>\n",
       "      <th>0</th>\n",
       "      <td>электрический цепь предлагать изучаться статич...</td>\n",
       "      <td>https://openedu.ru/course/ITMOUniversity/LINCIR/</td>\n",
       "      <td>openedu</td>\n",
       "    </tr>\n",
       "    <tr>\n",
       "      <th>1</th>\n",
       "      <td>новичок школьник старший специальность интерес...</td>\n",
       "      <td>https://openedu.ru/course/ITMOUniversity/WEBDEV/</td>\n",
       "      <td>openedu</td>\n",
       "    </tr>\n",
       "    <tr>\n",
       "      <th>2</th>\n",
       "      <td>мехатронный робототехнический длительный изобр...</td>\n",
       "      <td>https://openedu.ru/course/ITMOUniversity/ROBCTR/</td>\n",
       "      <td>openedu</td>\n",
       "    </tr>\n",
       "    <tr>\n",
       "      <th>3</th>\n",
       "      <td>граф граф востребовать дискретный адресовать ш...</td>\n",
       "      <td>https://openedu.ru/course/ITMOUniversity/AGRAPH/</td>\n",
       "      <td>openedu</td>\n",
       "    </tr>\n",
       "    <tr>\n",
       "      <th>4</th>\n",
       "      <td>организационный представлять нацелить поведени...</td>\n",
       "      <td>https://openedu.ru/course/hse/ORGBH/</td>\n",
       "      <td>openedu</td>\n",
       "    </tr>\n",
       "  </tbody>\n",
       "</table>\n",
       "</div>"
      ],
      "text/plain": [
       "                                                text  \\\n",
       "0  электрический цепь предлагать изучаться статич...   \n",
       "1  новичок школьник старший специальность интерес...   \n",
       "2  мехатронный робототехнический длительный изобр...   \n",
       "3  граф граф востребовать дискретный адресовать ш...   \n",
       "4  организационный представлять нацелить поведени...   \n",
       "\n",
       "                                                url     type  \n",
       "0  https://openedu.ru/course/ITMOUniversity/LINCIR/  openedu  \n",
       "1  https://openedu.ru/course/ITMOUniversity/WEBDEV/  openedu  \n",
       "2  https://openedu.ru/course/ITMOUniversity/ROBCTR/  openedu  \n",
       "3  https://openedu.ru/course/ITMOUniversity/AGRAPH/  openedu  \n",
       "4              https://openedu.ru/course/hse/ORGBH/  openedu  "
      ]
     },
     "execution_count": 101,
     "metadata": {},
     "output_type": "execute_result"
    }
   ],
   "source": [
    "openedu_to_add.head()"
   ]
  },
  {
   "cell_type": "markdown",
   "metadata": {},
   "source": [
    "# Data"
   ]
  },
  {
   "cell_type": "code",
   "execution_count": 102,
   "metadata": {
    "ExecuteTime": {
     "end_time": "2017-08-21T01:31:53.883356Z",
     "start_time": "2017-08-21T01:31:53.823282Z"
    },
    "collapsed": false
   },
   "outputs": [],
   "source": [
    "data = pd.concat([stepic,leader_id, coursera_to_add, leader_id_specials, openedu_to_add])"
   ]
  },
  {
   "cell_type": "code",
   "execution_count": 103,
   "metadata": {
    "ExecuteTime": {
     "end_time": "2017-08-21T01:31:53.963666Z",
     "start_time": "2017-08-21T01:31:53.885176Z"
    },
    "collapsed": false
   },
   "outputs": [
    {
     "data": {
      "text/html": [
       "<div>\n",
       "<style>\n",
       "    .dataframe thead tr:only-child th {\n",
       "        text-align: right;\n",
       "    }\n",
       "\n",
       "    .dataframe thead th {\n",
       "        text-align: left;\n",
       "    }\n",
       "\n",
       "    .dataframe tbody tr th {\n",
       "        vertical-align: top;\n",
       "    }\n",
       "</style>\n",
       "<table border=\"1\" class=\"dataframe\">\n",
       "  <thead>\n",
       "    <tr style=\"text-align: right;\">\n",
       "      <th></th>\n",
       "      <th>text</th>\n",
       "      <th>type</th>\n",
       "      <th>url</th>\n",
       "    </tr>\n",
       "  </thead>\n",
       "  <tbody>\n",
       "    <tr>\n",
       "      <th>45</th>\n",
       "      <td>сайт биткоина маркета прямая продажа тематика ...</td>\n",
       "      <td>stepic</td>\n",
       "      <td>https://stepik.org/course/3317/</td>\n",
       "    </tr>\n",
       "    <tr>\n",
       "      <th>62</th>\n",
       "      <td>обучиться главное возникать сервис вакансия ск...</td>\n",
       "      <td>stepic</td>\n",
       "      <td>https://stepik.org/course/3266/</td>\n",
       "    </tr>\n",
       "    <tr>\n",
       "      <th>80</th>\n",
       "      <td>случайность начинать непрерывный вероятностный...</td>\n",
       "      <td>stepic</td>\n",
       "      <td>https://stepik.org/course/3209/</td>\n",
       "    </tr>\n",
       "    <tr>\n",
       "      <th>83</th>\n",
       "      <td>учебник видеообъяснение максимальный балл экза...</td>\n",
       "      <td>stepic</td>\n",
       "      <td>https://stepik.org/course/3191/</td>\n",
       "    </tr>\n",
       "    <tr>\n",
       "      <th>85</th>\n",
       "      <td>ознакомительный создаваться поиск квалифициров...</td>\n",
       "      <td>stepic</td>\n",
       "      <td>https://stepik.org/course/3179/</td>\n",
       "    </tr>\n",
       "  </tbody>\n",
       "</table>\n",
       "</div>"
      ],
      "text/plain": [
       "                                                 text    type  \\\n",
       "45  сайт биткоина маркета прямая продажа тематика ...  stepic   \n",
       "62  обучиться главное возникать сервис вакансия ск...  stepic   \n",
       "80  случайность начинать непрерывный вероятностный...  stepic   \n",
       "83  учебник видеообъяснение максимальный балл экза...  stepic   \n",
       "85  ознакомительный создаваться поиск квалифициров...  stepic   \n",
       "\n",
       "                                url  \n",
       "45  https://stepik.org/course/3317/  \n",
       "62  https://stepik.org/course/3266/  \n",
       "80  https://stepik.org/course/3209/  \n",
       "83  https://stepik.org/course/3191/  \n",
       "85  https://stepik.org/course/3179/  "
      ]
     },
     "execution_count": 103,
     "metadata": {},
     "output_type": "execute_result"
    }
   ],
   "source": [
    "data.head()"
   ]
  },
  {
   "cell_type": "code",
   "execution_count": 104,
   "metadata": {
    "ExecuteTime": {
     "end_time": "2017-08-21T01:31:54.040498Z",
     "start_time": "2017-08-21T01:31:53.965835Z"
    },
    "collapsed": true
   },
   "outputs": [],
   "source": [
    "_all = \"\"\n",
    "\n",
    "for i in data[data['type'] != 'leader-id']['text']:\n",
    "    _all += i + \" \""
   ]
  },
  {
   "cell_type": "code",
   "execution_count": 51,
   "metadata": {
    "ExecuteTime": {
     "end_time": "2017-08-21T01:31:54.112783Z",
     "start_time": "2017-08-21T01:31:54.042560Z"
    },
    "collapsed": true
   },
   "outputs": [],
   "source": [
    "from collections import Counter"
   ]
  },
  {
   "cell_type": "code",
   "execution_count": 52,
   "metadata": {
    "ExecuteTime": {
     "end_time": "2017-08-21T01:31:54.216682Z",
     "start_time": "2017-08-21T01:31:54.114923Z"
    },
    "collapsed": false
   },
   "outputs": [],
   "source": [
    "black_list = [i[0] for i in Counter(_all.split()).most_common(200)]"
   ]
  },
  {
   "cell_type": "code",
   "execution_count": 55,
   "metadata": {},
   "outputs": [],
   "source": [
    "#black_list"
   ]
  },
  {
   "cell_type": "markdown",
   "metadata": {},
   "source": [
    "### ML"
   ]
  },
  {
   "cell_type": "markdown",
   "metadata": {},
   "source": [
    "## TF-IDF"
   ]
  },
  {
   "cell_type": "code",
   "execution_count": 105,
   "metadata": {
    "ExecuteTime": {
     "end_time": "2017-08-21T01:31:54.488619Z",
     "start_time": "2017-08-21T01:31:54.218681Z"
    },
    "collapsed": true
   },
   "outputs": [],
   "source": [
    "from sklearn.feature_extraction import text\n",
    "from scipy import spatial"
   ]
  },
  {
   "cell_type": "code",
   "execution_count": 106,
   "metadata": {
    "ExecuteTime": {
     "end_time": "2017-08-21T01:32:04.951540Z",
     "start_time": "2017-08-21T01:31:54.489944Z"
    },
    "collapsed": false
   },
   "outputs": [],
   "source": [
    "vectorizer = text.TfidfVectorizer(ngram_range=(1, 4))\n",
    "vectorizer_answer = vectorizer.fit_transform(list(data['text'])).toarray()"
   ]
  },
  {
   "cell_type": "code",
   "execution_count": 107,
   "metadata": {
    "ExecuteTime": {
     "end_time": "2017-08-21T01:32:04.956625Z",
     "start_time": "2017-08-21T01:32:04.953097Z"
    },
    "collapsed": false
   },
   "outputs": [
    {
     "data": {
      "text/plain": [
       "(4209, 4209)"
      ]
     },
     "execution_count": 107,
     "metadata": {},
     "output_type": "execute_result"
    }
   ],
   "source": [
    "len(data['text']), len(vectorizer_answer)"
   ]
  },
  {
   "cell_type": "code",
   "execution_count": 108,
   "metadata": {
    "ExecuteTime": {
     "end_time": "2017-08-21T01:32:05.039362Z",
     "start_time": "2017-08-21T01:32:04.957867Z"
    },
    "collapsed": false
   },
   "outputs": [],
   "source": [
    "data['tfidf'] = list(vectorizer_answer)"
   ]
  },
  {
   "cell_type": "markdown",
   "metadata": {},
   "source": [
    "# Recomendations"
   ]
  },
  {
   "cell_type": "code",
   "execution_count": 109,
   "metadata": {
    "ExecuteTime": {
     "end_time": "2017-08-21T01:32:05.121028Z",
     "start_time": "2017-08-21T01:32:05.041191Z"
    },
    "collapsed": true
   },
   "outputs": [],
   "source": [
    "import random\n",
    "import numpy as np"
   ]
  },
  {
   "cell_type": "code",
   "execution_count": 110,
   "metadata": {
    "ExecuteTime": {
     "end_time": "2017-08-21T01:32:05.198733Z",
     "start_time": "2017-08-21T01:32:05.123038Z"
    },
    "collapsed": true
   },
   "outputs": [],
   "source": [
    "to_recommend = data[data['type'] != 'leader-id']"
   ]
  },
  {
   "cell_type": "code",
   "execution_count": 111,
   "metadata": {
    "ExecuteTime": {
     "end_time": "2017-08-21T01:32:05.272168Z",
     "start_time": "2017-08-21T01:32:05.200680Z"
    },
    "collapsed": false
   },
   "outputs": [
    {
     "data": {
      "text/plain": [
       "508"
      ]
     },
     "execution_count": 111,
     "metadata": {},
     "output_type": "execute_result"
    }
   ],
   "source": [
    "len(to_recommend)"
   ]
  },
  {
   "cell_type": "code",
   "execution_count": 112,
   "metadata": {
    "ExecuteTime": {
     "end_time": "2017-08-21T01:32:05.346230Z",
     "start_time": "2017-08-21T01:32:05.273748Z"
    },
    "collapsed": false
   },
   "outputs": [],
   "source": [
    "link_to_header = {x[0]: x[1] for x in zip(coursera['link'], coursera['header'])}"
   ]
  },
  {
   "cell_type": "code",
   "execution_count": 113,
   "metadata": {},
   "outputs": [],
   "source": [
    "link_to_header_openedu = {x[0]: x[1] for x in zip(openedu['url'], openedu['title'])}"
   ]
  },
  {
   "cell_type": "code",
   "execution_count": 114,
   "metadata": {
    "ExecuteTime": {
     "end_time": "2017-08-21T01:32:05.421396Z",
     "start_time": "2017-08-21T01:32:05.348170Z"
    },
    "collapsed": true
   },
   "outputs": [],
   "source": [
    "stepic_to_text = {x[-1]: x[1] for x in stepic_pck}"
   ]
  },
  {
   "cell_type": "code",
   "execution_count": 115,
   "metadata": {
    "ExecuteTime": {
     "end_time": "2017-08-21T01:32:05.544469Z",
     "start_time": "2017-08-21T01:32:05.423405Z"
    },
    "collapsed": true
   },
   "outputs": [],
   "source": [
    "from flask import Flask, request"
   ]
  },
  {
   "cell_type": "code",
   "execution_count": 116,
   "metadata": {
    "ExecuteTime": {
     "end_time": "2017-08-21T01:32:05.587775Z",
     "start_time": "2017-08-21T01:32:05.545646Z"
    },
    "collapsed": true
   },
   "outputs": [],
   "source": [
    "app = Flask(__name__)"
   ]
  },
  {
   "cell_type": "code",
   "execution_count": 117,
   "metadata": {
    "ExecuteTime": {
     "start_time": "2017-08-20T22:31:54.796Z"
    },
    "collapsed": false
   },
   "outputs": [],
   "source": [
    "@app.route(\"/event/<event_id>\")\n",
    "def hello(event_id):\n",
    "    item = list(data[data['url'] == 'https://leader-id.ru/event/%s/' % event_id].values)[0]\n",
    "    \n",
    "    similarity = []\n",
    "    items = to_recommend.values\n",
    "    \n",
    "    for i in items:\n",
    "        similarity.append(spatial.distance.cosine(i[-1], item[-1]))\n",
    "    \n",
    "    indexes = np.asarray(similarity).argsort()[:100]\n",
    "\n",
    "    types = []\n",
    "    urls = []\n",
    "    \n",
    "    for i in indexes:\n",
    "        item = items[i]\n",
    "        types.append(item[1])\n",
    "        urls.append(item[2])\n",
    "        \n",
    "   \n",
    "    html = \"\"\n",
    "    \n",
    "    for url, _type in zip(urls, types):\n",
    "        \n",
    "        if _type == 'stepic':\n",
    "            title = stepic_to_text[int(url.replace('https://stepik.org/course/','')[:-1])]\n",
    "        elif _type == 'coursera':\n",
    "            title = link_to_header[url]\n",
    "        elif _type == 'openedu':\n",
    "            title = link_to_header_openedu[url]\n",
    "        \n",
    "        html += \"<p>{0} <a href='{1}'>{1}</a></p>\".format(title, url)\n",
    "        html += \"<hr>\"\n",
    "    return html\n",
    "\n",
    "@app.route(\"/specials/<event_id>\")\n",
    "def special(event_id):\n",
    "    item = list(data[data['url'] == 'https://leader-id.ru/specials/%s/' % event_id].values)\n",
    "    \n",
    "    if len(item) > 0:\n",
    "        item = item[0]\n",
    "\n",
    "        similarity = []\n",
    "        items = to_recommend.values\n",
    "\n",
    "        for i in items:\n",
    "            similarity.append(spatial.distance.cosine(i[-1], item[-1]))\n",
    "\n",
    "        indexes = np.asarray(similarity).argsort()[:100]\n",
    "\n",
    "        types = []\n",
    "        urls = []\n",
    "\n",
    "        for i in indexes:\n",
    "            item = items[i]\n",
    "            types.append(item[1])\n",
    "            urls.append(item[2])\n",
    "\n",
    "\n",
    "        html = \"\"\n",
    "\n",
    "        for url, _type in zip(urls, types):\n",
    "\n",
    "            if _type == 'stepic':\n",
    "                title = stepic_to_text[int(url.replace('https://stepik.org/course/','')[:-1])]\n",
    "            elif _type == 'coursera':\n",
    "                title = link_to_header[url]\n",
    "            elif _type == 'openedu':\n",
    "                title = link_to_header_openedu[url]\n",
    "\n",
    "            html += \"<p>{0} <a href='{1}'>{1}</a></p>\".format(title, url)\n",
    "            html += \"<hr>\"\n",
    "        return html\n",
    "    else:\n",
    "        html = ''\n",
    "        for url in leader_id_specials['url']:\n",
    "            header = special_to_header[url]\n",
    "            url = url.replace('https://leader-id.ru/specials/','')\n",
    "            html += \"<a href='/specials/{}'>{}</a><br>\".format(url[:-1], header)\n",
    "        return html\n",
    "            "
   ]
  },
  {
   "cell_type": "code",
   "execution_count": null,
   "metadata": {
    "ExecuteTime": {
     "start_time": "2017-08-20T22:31:55.030Z"
    },
    "collapsed": false
   },
   "outputs": [
    {
     "name": "stderr",
     "output_type": "stream",
     "text": [
      " * Running on http://0.0.0.0:6712/ (Press CTRL+C to quit)\n",
      "/home/tvorog/.anaconda3/lib/python3.6/site-packages/scipy/spatial/distance.py:505: RuntimeWarning: invalid value encountered in double_scalars\n",
      "  dist = 1.0 - np.dot(u, v) / (norm(u) * norm(v))\n",
      "62.148.135.203 - - [23/Aug/2017 16:23:48] \"GET /event/4643 HTTP/1.1\" 200 -\n",
      "87.249.17.230 - - [23/Aug/2017 16:24:11] \"GET /specials/k HTTP/1.1\" 200 -\n",
      "87.249.17.230 - - [23/Aug/2017 16:24:13] \"GET /specials/investstandart HTTP/1.1\" 200 -\n",
      "87.249.17.230 - - [23/Aug/2017 16:24:28] \"GET /specials/promo_planeta HTTP/1.1\" 200 -\n",
      "87.249.17.230 - - [23/Aug/2017 16:24:35] \"GET /specials/selection_generalnydirector HTTP/1.1\" 200 -\n",
      "87.249.17.230 - - [23/Aug/2017 16:24:50] \"GET /event/4643 HTTP/1.1\" 200 -\n",
      "87.249.17.230 - - [23/Aug/2017 16:25:15] \"GET /specials/skrobotics2016 HTTP/1.1\" 200 -\n",
      "87.249.17.230 - - [23/Aug/2017 16:25:27] \"GET /specials/trainees_NTI HTTP/1.1\" 200 -\n",
      "87.249.17.230 - - [23/Aug/2017 16:28:01] \"GET /specials/leadership_projects HTTP/1.1\" 200 -\n",
      "62.148.135.203 - - [23/Aug/2017 16:30:04] \"GET /event/4643 HTTP/1.1\" 200 -\n"
     ]
    }
   ],
   "source": [
    "app.run(host=\"0.0.0.0\", port=6712)"
   ]
  },
  {
   "cell_type": "code",
   "execution_count": null,
   "metadata": {
    "collapsed": true
   },
   "outputs": [],
   "source": []
  }
 ],
 "metadata": {
  "kernelspec": {
   "display_name": "Python 3",
   "language": "python",
   "name": "python3"
  },
  "language_info": {
   "codemirror_mode": {
    "name": "ipython",
    "version": 3
   },
   "file_extension": ".py",
   "mimetype": "text/x-python",
   "name": "python",
   "nbconvert_exporter": "python",
   "pygments_lexer": "ipython3",
   "version": "3.6.0"
  }
 },
 "nbformat": 4,
 "nbformat_minor": 2
}
