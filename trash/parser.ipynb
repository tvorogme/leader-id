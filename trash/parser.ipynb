{
 "cells": [
  {
   "cell_type": "code",
   "execution_count": 1,
   "metadata": {
    "collapsed": false
   },
   "outputs": [],
   "source": [
    "import json\n",
    "from tqdm import tqdm_notebook\n",
    "from collections import Counter\n",
    "import requests\n",
    "from bs4 import BeautifulSoup\n",
    "import pickle\n",
    "import pandas as pd\n",
    "from stepik_api import get_token"
   ]
  },
  {
   "cell_type": "code",
   "execution_count": 2,
   "metadata": {
    "collapsed": true
   },
   "outputs": [],
   "source": [
    "def get_data(pageNum):\n",
    "    api_url = 'https://stepik.org/api/courses?page={}'.format(pageNum)\n",
    "    course = json.loads(requests.get(api_url, headers={'Authorization': 'Bearer ' + get_token()}).text)\n",
    "    return course"
   ]
  },
  {
   "cell_type": "code",
   "execution_count": 3,
   "metadata": {
    "collapsed": true
   },
   "outputs": [],
   "source": [
    "all_course = []"
   ]
  },
  {
   "cell_type": "code",
   "execution_count": 4,
   "metadata": {
    "collapsed": false
   },
   "outputs": [
    {
     "name": "stderr",
     "output_type": "stream",
     "text": [
      "Widget Javascript not detected.  It may not be installed properly. Did you enable the widgetsnbextension? If not, then run \"jupyter nbextension enable --py --sys-prefix widgetsnbextension\"\n"
     ]
    },
    {
     "name": "stdout",
     "output_type": "stream",
     "text": [
      "\n"
     ]
    }
   ],
   "source": [
    "pbar = tqdm_notebook(range(1, 121))\n",
    "\n",
    "for i in pbar:\n",
    "    all_course += get_data(i)['courses']\n",
    "    pbar.set_description(str(len(all_course)))\n",
    "    "
   ]
  },
  {
   "cell_type": "code",
   "execution_count": 5,
   "metadata": {
    "collapsed": false
   },
   "outputs": [
    {
     "data": {
      "text/plain": [
       "Counter({'af': 1,\n",
       "         'de': 2,\n",
       "         'en': 291,\n",
       "         'es': 12,\n",
       "         'ko': 3,\n",
       "         'pt-br': 1,\n",
       "         'ru': 908,\n",
       "         'uk': 8})"
      ]
     },
     "execution_count": 5,
     "metadata": {},
     "output_type": "execute_result"
    }
   ],
   "source": [
    "Counter([i['language'] for i in all_course])"
   ]
  },
  {
   "cell_type": "code",
   "execution_count": 6,
   "metadata": {
    "collapsed": true
   },
   "outputs": [],
   "source": [
    "#pickle.dump(all_course, open(\"stepik_courses.pck\", \"wb\"))"
   ]
  },
  {
   "cell_type": "code",
   "execution_count": 7,
   "metadata": {
    "collapsed": true
   },
   "outputs": [],
   "source": [
    "all_course = pickle.load(open(\"stepik_courses.pck\", \"rb\"))"
   ]
  },
  {
   "cell_type": "code",
   "execution_count": 8,
   "metadata": {
    "collapsed": true
   },
   "outputs": [],
   "source": [
    "indexes = list(map(int, [i['id'] for i in all_course]))"
   ]
  },
  {
   "cell_type": "markdown",
   "metadata": {},
   "source": [
    "$$$$$$$$"
   ]
  },
  {
   "cell_type": "code",
   "execution_count": 9,
   "metadata": {
    "collapsed": true
   },
   "outputs": [],
   "source": [
    "def parse_stepic(_id):\n",
    "    headers = {'User-Agent': 'Mozilla/5.0 (Macintosh; Intel Mac OS X 10_10_1) AppleWebKit/537.36 (KHTML, like Gecko) Chrome/39.0.2171.95 Safari/537.36'}\n",
    "    html = requests.get(\"https://stepik.org/api/courses/%s/\" % _id, headers=headers).text\n",
    "    html = json.loads(html)\n",
    "    \n",
    "    print(html['courses'])\n",
    "\n",
    "    text = html['courses'][0]['course_format'] + \" \"\n",
    "    text += html['courses'][0]['description'] + \" \"\n",
    "    text += html['courses'][0]['certificate'] + \" \"\n",
    "    text += html['courses'][0]['requirements'] + \" \"\n",
    "    text += html['courses'][0]['summary'] + \" \"\n",
    "    text += html['courses'][0]['target_audience'] + \" \"\n",
    "    text += html['courses'][0]['title'] + \" \"\n",
    "\n",
    "    return [text, html['courses'][0]['title'], html['courses'][0]['is_active']]"
   ]
  },
  {
   "cell_type": "code",
   "execution_count": 10,
   "metadata": {},
   "outputs": [
    {
     "name": "stdout",
     "output_type": "stream",
     "text": [
      "[{'id': 3406, 'summary': 'Курс для подготовки к ЕГЭ. Типовые задания ', 'workload': '', 'cover': None, 'intro': '', 'course_format': '', 'target_audience': '', 'certificate_footer': None, 'certificate_cover_org': None, 'is_certificate_auto_issued': False, 'certificate_regular_threshold': None, 'certificate_distinction_threshold': None, 'instructors': [35159128], 'certificate': '', 'requirements': '', 'description': '', 'sections': [6968], 'total_units': 0, 'enrollment': None, 'is_favorite': False, 'actions': {}, 'progress': None, 'certificate_link': None, 'certificate_regular_link': None, 'certificate_distinction_link': None, 'schedule_link': None, 'schedule_long_link': None, 'first_deadline': None, 'last_deadline': None, 'subscriptions': ['31-78-3406', '30-78-3406'], 'announcements': [], 'is_contest': False, 'is_self_paced': True, 'is_adaptive': False, 'is_idea_compatible': False, 'last_step': '78-3406', 'intro_video': None, 'social_providers': [], 'authors': [35159128], 'tags': [], 'has_tutors': False, 'is_promoted': False, 'is_enabled': True, 'is_proctored': False, 'proctor_url': None, 'review_summary': 2953, 'schedule_type': 'self_paced', 'certificates_count': 0, 'learners_count': 1, 'time_to_complete': None, 'is_popular': False, 'owner': 35159128, 'language': 'ru', 'is_featured': False, 'is_public': True, 'title': 'История России ЕГЭ ', 'slug': 'История-России-ЕГЭ-3406', 'begin_date': None, 'end_date': None, 'soft_deadline': None, 'hard_deadline': None, 'grading_policy': 'halved', 'begin_date_source': None, 'end_date_source': None, 'soft_deadline_source': None, 'hard_deadline_source': None, 'grading_policy_source': 'halved', 'is_active': True, 'create_date': '2017-08-11T14:24:36Z', 'update_date': '2017-08-11T14:24:38Z', 'learners_group': None, 'testers_group': None, 'moderators_group': None, 'teachers_group': None, 'admins_group': None, 'discussions_count': 0, 'discussion_proxy': None, 'discussion_threads': [], 'lti_consumer_key': '', 'lti_secret_key': ''}]\n"
     ]
    },
    {
     "data": {
      "text/plain": [
       "['    Курс для подготовки к ЕГЭ. Типовые задания   История России ЕГЭ  ',\n",
       " 'История России ЕГЭ ']"
      ]
     },
     "execution_count": 10,
     "metadata": {},
     "output_type": "execute_result"
    }
   ],
   "source": [
    "parse_stepic(indexes[0])"
   ]
  },
  {
   "cell_type": "code",
   "execution_count": 14,
   "metadata": {
    "collapsed": false
   },
   "outputs": [
    {
     "name": "stdout",
     "output_type": "stream",
     "text": [
      "\n"
     ]
    }
   ],
   "source": [
    "texts = []\n",
    "pbar = tqdm_notebook(indexes)\n",
    "\n",
    "for i in pbar:\n",
    "    try:\n",
    "        text = parse_stepic(i)\n",
    "\n",
    "        if text != None:\n",
    "            texts.append(text + [i])\n",
    "            pbar.set_description(str(len(texts)))\n",
    "    except:\n",
    "        pass"
   ]
  },
  {
   "cell_type": "code",
   "execution_count": 15,
   "metadata": {
    "collapsed": false
   },
   "outputs": [],
   "source": [
    "pickle.dump(texts, open('stepik.pck', 'wb'))"
   ]
  },
  {
   "cell_type": "markdown",
   "metadata": {},
   "source": [
    "$$$$"
   ]
  },
  {
   "cell_type": "code",
   "execution_count": 36,
   "metadata": {
    "collapsed": true
   },
   "outputs": [],
   "source": [
    "def download_pack(start):\n",
    "    url = 'https://www.coursera.org/courses?_facet_changed_=true&primaryLanguages=ru&start=%s' % start\n",
    "    headers = {'User-Agent': 'Mozilla/5.0 (Macintosh; Intel Mac OS X 10_10_1) AppleWebKit/537.36 (KHTML, like Gecko) Chrome/39.0.2171.95 Safari/537.36'}\n",
    "    html = requests.get(url, headers=headers).text\n",
    "    root = BeautifulSoup(html, \"html.parser\")\n",
    "    items = root.findAll('div', {'class': 'rc-SearchResults'})[0]\n",
    "    urls = [x['href'] for x in items.findAll('a')]\n",
    "    return urls"
   ]
  },
  {
   "cell_type": "code",
   "execution_count": 41,
   "metadata": {
    "collapsed": false
   },
   "outputs": [
    {
     "name": "stdout",
     "output_type": "stream",
     "text": [
      " 116"
     ]
    }
   ],
   "source": [
    "a = []\n",
    "\n",
    "while len(a) < 116:\n",
    "    a.extend(download_pack(len(a)))\n",
    "    print('\\r', len(a), end='')"
   ]
  },
  {
   "cell_type": "code",
   "execution_count": 49,
   "metadata": {
    "collapsed": true
   },
   "outputs": [],
   "source": [
    "def text_sum(texts: list, separator: str = ' ') -> str:\n",
    "    tmp = ''\n",
    "    \n",
    "    for text in texts:\n",
    "        tmp += text + separator\n",
    "    \n",
    "    return tmp"
   ]
  },
  {
   "cell_type": "code",
   "execution_count": 105,
   "metadata": {
    "collapsed": false
   },
   "outputs": [],
   "source": [
    "def download_link(link):\n",
    "    url = 'https://www.coursera.org%s' % link\n",
    "    headers = {'User-Agent': 'Mozilla/5.0 (Macintosh; Intel Mac OS X 10_10_1) AppleWebKit/537.36 (KHTML, like Gecko) Chrome/39.0.2171.95 Safari/537.36'}\n",
    "    html = requests.get(url, headers=headers)\n",
    "    root = BeautifulSoup(html.content.decode(), \"html.parser\")\n",
    "    \n",
    "    title = root.findAll('h1', {'class': 'title'})\n",
    "    \n",
    "    if len(title) == 0:\n",
    "        title = root.findAll('h2')[0]\n",
    "    else:\n",
    "        title = title[0]\n",
    "    \n",
    "    descriptions = root.findAll('p', {'class': 'course-description'})\n",
    "    \n",
    "    if len(descriptions) == 0:\n",
    "        descriptions = root.findAll('div', {'class': 'description'})\n",
    "    \n",
    "    courses = root.findAll('div', {'class': 'course-cont'})\n",
    "    \n",
    "    if len(courses) == 0:\n",
    "        courses = root.findAll('div', {'class': 'module-desc'})\n",
    "\n",
    "    return [title.text, text_sum([description.text for description in descriptions]), \n",
    "            text_sum([course.text for course in courses]), url]"
   ]
  },
  {
   "cell_type": "code",
   "execution_count": null,
   "metadata": {
    "collapsed": true
   },
   "outputs": [],
   "source": [
    "answer = []"
   ]
  },
  {
   "cell_type": "code",
   "execution_count": 120,
   "metadata": {
    "collapsed": false
   },
   "outputs": [
    {
     "name": "stdout",
     "output_type": "stream",
     "text": [
      "\n",
      "\n"
     ]
    }
   ],
   "source": [
    "for link in tqdm_notebook(a):\n",
    "    answer.append(download_link(link))"
   ]
  },
  {
   "cell_type": "code",
   "execution_count": 125,
   "metadata": {
    "collapsed": false
   },
   "outputs": [],
   "source": [
    "coursera_text = pd.DataFrame(answer, columns=['header', 'description', 'course_text', 'link'])"
   ]
  },
  {
   "cell_type": "code",
   "execution_count": 126,
   "metadata": {
    "collapsed": true
   },
   "outputs": [],
   "source": [
    "coursera_text.to_csv('coursera.csv')"
   ]
  },
  {
   "cell_type": "markdown",
   "metadata": {},
   "source": [
    "# Благинин Data\n",
    "https://openedu.ru/course/ <br>\n",
    "http://universarium.org/catalog <br>\n",
    "https://netology.ru/"
   ]
  },
  {
   "cell_type": "code",
   "execution_count": 5,
   "metadata": {},
   "outputs": [],
   "source": [
    "url = \"http://universarium.org/catalog\"\n",
    "headers = {'User-Agent': 'Mozilla/5.0 (Macintosh; Intel Mac OS X 10_10_1) AppleWebKit/537.36 (KHTML, like Gecko) Chrome/39.0.2171.95 Safari/537.36'}\n",
    "html = requests.get(url, headers=headers)\n",
    "root = BeautifulSoup(html.content.decode(), \"html.parser\")"
   ]
  },
  {
   "cell_type": "code",
   "execution_count": 7,
   "metadata": {},
   "outputs": [
    {
     "data": {
      "text/plain": [
       "[]"
      ]
     },
     "execution_count": 7,
     "metadata": {},
     "output_type": "execute_result"
    }
   ],
   "source": [
    "root.findAll('a', {'ng-bind': 'course.title'})"
   ]
  },
  {
   "cell_type": "code",
   "execution_count": 18,
   "metadata": {},
   "outputs": [],
   "source": [
    "courses = open('data/courses.json').read()"
   ]
  },
  {
   "cell_type": "code",
   "execution_count": 25,
   "metadata": {},
   "outputs": [],
   "source": [
    "courses = eval(courses[:-1].replace('false', 'False').replace('true','True'))"
   ]
  },
  {
   "cell_type": "code",
   "execution_count": 27,
   "metadata": {},
   "outputs": [],
   "source": [
    "titles = []\n",
    "urls = []\n",
    "\n",
    "for i in courses:\n",
    "    titles.append(courses[i]['title'])\n",
    "    urls.append(courses[i]['url'])"
   ]
  },
  {
   "cell_type": "code",
   "execution_count": 28,
   "metadata": {},
   "outputs": [],
   "source": [
    "data = []\n",
    "\n",
    "for title, url in zip(titles, urls):\n",
    "    data.append([title, url])"
   ]
  },
  {
   "cell_type": "code",
   "execution_count": 29,
   "metadata": {},
   "outputs": [],
   "source": [
    "data = pd.DataFrame(data, columns=['title', 'url'])"
   ]
  },
  {
   "cell_type": "code",
   "execution_count": 45,
   "metadata": {},
   "outputs": [],
   "source": [
    "def text_sum(text: list) -> str:\n",
    "    tmp_text = \"\"\n",
    "    for i in text:\n",
    "        tmp_text += i\n",
    "        tmp_text += \" \"\n",
    "    return tmp_text"
   ]
  },
  {
   "cell_type": "code",
   "execution_count": 46,
   "metadata": {},
   "outputs": [],
   "source": [
    "def parse_openedu(url):\n",
    "    url = 'https://openedu.ru%s' % url\n",
    "    html = requests.get(url, headers=headers)\n",
    "    root = BeautifulSoup(html.content.decode(), \"html.parser\")\n",
    "    needed_div = root.findAll('div', {'class': 'col-sm-8 issue'})[0]\n",
    "    return text_sum([i.text for i in needed_div.findAll('p')])"
   ]
  },
  {
   "cell_type": "code",
   "execution_count": 48,
   "metadata": {},
   "outputs": [],
   "source": [
    "data['text'] = list(map(parse_openedu, data['url']))"
   ]
  },
  {
   "cell_type": "code",
   "execution_count": 50,
   "metadata": {},
   "outputs": [],
   "source": [
    "data['url'] = list(map(lambda url: 'https://openedu.ru%s' % url, data['url']))"
   ]
  },
  {
   "cell_type": "code",
   "execution_count": 51,
   "metadata": {},
   "outputs": [
    {
     "data": {
      "text/html": [
       "<div>\n",
       "<style>\n",
       "    .dataframe thead tr:only-child th {\n",
       "        text-align: right;\n",
       "    }\n",
       "\n",
       "    .dataframe thead th {\n",
       "        text-align: left;\n",
       "    }\n",
       "\n",
       "    .dataframe tbody tr th {\n",
       "        vertical-align: top;\n",
       "    }\n",
       "</style>\n",
       "<table border=\"1\" class=\"dataframe\">\n",
       "  <thead>\n",
       "    <tr style=\"text-align: right;\">\n",
       "      <th></th>\n",
       "      <th>title</th>\n",
       "      <th>url</th>\n",
       "      <th>text</th>\n",
       "    </tr>\n",
       "  </thead>\n",
       "  <tbody>\n",
       "    <tr>\n",
       "      <th>0</th>\n",
       "      <td>Линейные электрические цепи</td>\n",
       "      <td>https://openedu.ru/course/ITMOUniversity/LINCIR/</td>\n",
       "      <td>В предлагаемом курсе изучаются статические и п...</td>\n",
       "    </tr>\n",
       "    <tr>\n",
       "      <th>1</th>\n",
       "      <td>Веб-программирование</td>\n",
       "      <td>https://openedu.ru/course/ITMOUniversity/WEBDEV/</td>\n",
       "      <td>Курс предназначен для новичков в области веб-п...</td>\n",
       "    </tr>\n",
       "    <tr>\n",
       "      <th>2</th>\n",
       "      <td>Управление мехатронными и робототехническими с...</td>\n",
       "      <td>https://openedu.ru/course/ITMOUniversity/ROBCTR/</td>\n",
       "      <td>Длительное время люди изобретают механизмы, ко...</td>\n",
       "    </tr>\n",
       "    <tr>\n",
       "      <th>3</th>\n",
       "      <td>Методы и алгоритмы теории графов</td>\n",
       "      <td>https://openedu.ru/course/ITMOUniversity/AGRAPH/</td>\n",
       "      <td>Теория графов – наиболее востребованный на пра...</td>\n",
       "    </tr>\n",
       "    <tr>\n",
       "      <th>4</th>\n",
       "      <td>Организационное поведение</td>\n",
       "      <td>https://openedu.ru/course/hse/ORGBH/</td>\n",
       "      <td>Курс представляет основные подходы и результат...</td>\n",
       "    </tr>\n",
       "  </tbody>\n",
       "</table>\n",
       "</div>"
      ],
      "text/plain": [
       "                                               title  \\\n",
       "0                        Линейные электрические цепи   \n",
       "1                               Веб-программирование   \n",
       "2  Управление мехатронными и робототехническими с...   \n",
       "3                   Методы и алгоритмы теории графов   \n",
       "4                          Организационное поведение   \n",
       "\n",
       "                                                url  \\\n",
       "0  https://openedu.ru/course/ITMOUniversity/LINCIR/   \n",
       "1  https://openedu.ru/course/ITMOUniversity/WEBDEV/   \n",
       "2  https://openedu.ru/course/ITMOUniversity/ROBCTR/   \n",
       "3  https://openedu.ru/course/ITMOUniversity/AGRAPH/   \n",
       "4              https://openedu.ru/course/hse/ORGBH/   \n",
       "\n",
       "                                                text  \n",
       "0  В предлагаемом курсе изучаются статические и п...  \n",
       "1  Курс предназначен для новичков в области веб-п...  \n",
       "2  Длительное время люди изобретают механизмы, ко...  \n",
       "3  Теория графов – наиболее востребованный на пра...  \n",
       "4  Курс представляет основные подходы и результат...  "
      ]
     },
     "execution_count": 51,
     "metadata": {},
     "output_type": "execute_result"
    }
   ],
   "source": [
    "data.head()"
   ]
  },
  {
   "cell_type": "code",
   "execution_count": 52,
   "metadata": {},
   "outputs": [],
   "source": [
    "data.to_csv('openedu.csv')"
   ]
  },
  {
   "cell_type": "code",
   "execution_count": null,
   "metadata": {},
   "outputs": [],
   "source": []
  },
  {
   "cell_type": "code",
   "execution_count": 53,
   "metadata": {},
   "outputs": [],
   "source": [
    "url = \"https://netology.ru/design/programs\"\n",
    "headers = {'User-Agent': 'Mozilla/5.0 (Macintosh; Intel Mac OS X 10_10_1) AppleWebKit/537.36 (KHTML, like Gecko) Chrome/39.0.2171.95 Safari/537.36'}\n",
    "html = requests.get(url, headers=headers)\n",
    "root = BeautifulSoup(html.content.decode(), \"html.parser\")"
   ]
  },
  {
   "cell_type": "code",
   "execution_count": null,
   "metadata": {},
   "outputs": [],
   "source": []
  }
 ],
 "metadata": {
  "kernelspec": {
   "display_name": "Python 3",
   "language": "python",
   "name": "python3"
  },
  "language_info": {
   "codemirror_mode": {
    "name": "ipython",
    "version": 3
   },
   "file_extension": ".py",
   "mimetype": "text/x-python",
   "name": "python",
   "nbconvert_exporter": "python",
   "pygments_lexer": "ipython3",
   "version": "3.6.0"
  }
 },
 "nbformat": 4,
 "nbformat_minor": 2
}
