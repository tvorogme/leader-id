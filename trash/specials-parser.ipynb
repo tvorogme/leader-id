{
 "cells": [
  {
   "cell_type": "code",
   "execution_count": 1,
   "metadata": {
    "collapsed": false
   },
   "outputs": [],
   "source": [
    "from tqdm import tqdm\n",
    "from bs4 import BeautifulSoup\n",
    "import requests\n",
    "import numpy as np\n",
    "import pandas as pd"
   ]
  },
  {
   "cell_type": "code",
   "execution_count": 2,
   "metadata": {
    "collapsed": false
   },
   "outputs": [],
   "source": [
    "def get_all(_id):\n",
    "    headers = {'User-Agent': 'Mozilla/5.0 (Macintosh; Intel Mac OS X 10_10_1) AppleWebKit/537.36 (KHTML, like Gecko) Chrome/39.0.2171.95 Safari/537.36'}\n",
    "    html = requests.get('https://leader-id.ru/specials/?special_models_Special_page=%s' % _id, headers=headers)\n",
    "    root = BeautifulSoup(html.content.decode(), \"html.parser\")\n",
    "    elements = root.findAll('div', {'class': 'events-item'})\n",
    "    urls = []\n",
    "    headers = []\n",
    "    \n",
    "    for el in elements:\n",
    "        urls.append(el.findAll('a')[1]['href'])\n",
    "        headers.append(el.findAll('a')[1].text)\n",
    "        \n",
    "    return urls,headers"
   ]
  },
  {
   "cell_type": "code",
   "execution_count": 5,
   "metadata": {
    "collapsed": false
   },
   "outputs": [],
   "source": [
    "urls = set()\n",
    "headers = set()\n",
    "old_len = -1\n",
    "page_num = 1\n",
    "\n",
    "while old_len != len(urls):\n",
    "    old_len = len(urls)\n",
    "    \n",
    "    el = get_all(page_num)\n",
    "    for a,b in zip(el[0], el[1]):\n",
    "        urls.add(a)\n",
    "        headers.add(b)\n",
    "    \n",
    "    page_num += 1"
   ]
  },
  {
   "cell_type": "code",
   "execution_count": 53,
   "metadata": {
    "collapsed": false
   },
   "outputs": [],
   "source": [
    "normal_data = []\n",
    "\n",
    "for j, k in zip(*data):\n",
    "    normal_data.append([j,k])"
   ]
  },
  {
   "cell_type": "code",
   "execution_count": 54,
   "metadata": {
    "collapsed": false
   },
   "outputs": [
    {
     "data": {
      "text/plain": [
       "['/specials/national-technology-initiative/',\n",
       " 'Национальная технологическая инициатива']"
      ]
     },
     "execution_count": 54,
     "metadata": {},
     "output_type": "execute_result"
    }
   ],
   "source": [
    "normal_data[0]"
   ]
  },
  {
   "cell_type": "code",
   "execution_count": 55,
   "metadata": {
    "collapsed": false
   },
   "outputs": [],
   "source": [
    "data = pd.DataFrame(normal_data, columns=['url', 'header'])"
   ]
  },
  {
   "cell_type": "code",
   "execution_count": 56,
   "metadata": {
    "collapsed": false
   },
   "outputs": [],
   "source": [
    "data['url'] = list(map(lambda x: \"https://leader-id.ru%s\" % x, data['url']))"
   ]
  },
  {
   "cell_type": "code",
   "execution_count": 57,
   "metadata": {
    "collapsed": false
   },
   "outputs": [
    {
     "data": {
      "text/html": [
       "<div>\n",
       "<style>\n",
       "    .dataframe thead tr:only-child th {\n",
       "        text-align: right;\n",
       "    }\n",
       "\n",
       "    .dataframe thead th {\n",
       "        text-align: left;\n",
       "    }\n",
       "\n",
       "    .dataframe tbody tr th {\n",
       "        vertical-align: top;\n",
       "    }\n",
       "</style>\n",
       "<table border=\"1\" class=\"dataframe\">\n",
       "  <thead>\n",
       "    <tr style=\"text-align: right;\">\n",
       "      <th></th>\n",
       "      <th>url</th>\n",
       "      <th>header</th>\n",
       "    </tr>\n",
       "  </thead>\n",
       "  <tbody>\n",
       "    <tr>\n",
       "      <th>0</th>\n",
       "      <td>https://leader-id.ru/specials/national-technol...</td>\n",
       "      <td>Национальная технологическая инициатива</td>\n",
       "    </tr>\n",
       "    <tr>\n",
       "      <th>1</th>\n",
       "      <td>https://leader-id.ru/specials/itstartup/</td>\n",
       "      <td>Финал Предакселератора GenerationS</td>\n",
       "    </tr>\n",
       "    <tr>\n",
       "      <th>2</th>\n",
       "      <td>https://leader-id.ru/specials/foresighttrip201...</td>\n",
       "      <td>Форсайт-флот 2016</td>\n",
       "    </tr>\n",
       "    <tr>\n",
       "      <th>3</th>\n",
       "      <td>https://leader-id.ru/specials/lecture_forum2016/</td>\n",
       "      <td>Лекторий  Форума стратегических инициатив</td>\n",
       "    </tr>\n",
       "    <tr>\n",
       "      <th>4</th>\n",
       "      <td>https://leader-id.ru/specials/investclimat/</td>\n",
       "      <td>Инвестклимат.рф</td>\n",
       "    </tr>\n",
       "  </tbody>\n",
       "</table>\n",
       "</div>"
      ],
      "text/plain": [
       "                                                 url  \\\n",
       "0  https://leader-id.ru/specials/national-technol...   \n",
       "1           https://leader-id.ru/specials/itstartup/   \n",
       "2  https://leader-id.ru/specials/foresighttrip201...   \n",
       "3   https://leader-id.ru/specials/lecture_forum2016/   \n",
       "4        https://leader-id.ru/specials/investclimat/   \n",
       "\n",
       "                                      header  \n",
       "0    Национальная технологическая инициатива  \n",
       "1         Финал Предакселератора GenerationS  \n",
       "2                          Форсайт-флот 2016  \n",
       "3  Лекторий  Форума стратегических инициатив  \n",
       "4                            Инвестклимат.рф  "
      ]
     },
     "execution_count": 57,
     "metadata": {},
     "output_type": "execute_result"
    }
   ],
   "source": [
    "data.head()"
   ]
  },
  {
   "cell_type": "code",
   "execution_count": 75,
   "metadata": {
    "collapsed": true
   },
   "outputs": [],
   "source": [
    "def get_text(url):\n",
    "    headers = {'User-Agent': 'Mozilla/5.0 (Macintosh; Intel Mac OS X 10_10_1) AppleWebKit/537.36 (KHTML, like Gecko) Chrome/39.0.2171.95 Safari/537.36'}\n",
    "    html = requests.get(url, headers=headers)\n",
    "    root = BeautifulSoup(html.content.decode(), \"html.parser\")\n",
    "    \n",
    "    if html.status_code == 200:\n",
    "        answer = root.findAll('div', {'class': 'b-search'})\n",
    "        \n",
    "        if len(answer) > 0:\n",
    "            return answer[0].text\n",
    "        else:\n",
    "            print(url)\n",
    "            return \"\"\n",
    "    else:\n",
    "        return \"\""
   ]
  },
  {
   "cell_type": "code",
   "execution_count": 76,
   "metadata": {
    "collapsed": false
   },
   "outputs": [
    {
     "name": "stdout",
     "output_type": "stream",
     "text": [
      "https://leader-id.ru/specials/lecture_forum2016/\n",
      "https://leader-id.ru/specials/lecture_forum2016/\n",
      "https://leader-id.ru/specials/vdnh_forum_2016/\n"
     ]
    }
   ],
   "source": [
    "data['text'] = list(map(get_text, data['url']))"
   ]
  },
  {
   "cell_type": "code",
   "execution_count": 79,
   "metadata": {
    "collapsed": false
   },
   "outputs": [],
   "source": [
    "data = data[data['text'].str.len() > 0]"
   ]
  },
  {
   "cell_type": "code",
   "execution_count": 80,
   "metadata": {
    "collapsed": false
   },
   "outputs": [
    {
     "data": {
      "text/plain": [
       "41"
      ]
     },
     "execution_count": 80,
     "metadata": {},
     "output_type": "execute_result"
    }
   ],
   "source": [
    "len(data)"
   ]
  },
  {
   "cell_type": "code",
   "execution_count": 82,
   "metadata": {
    "collapsed": false
   },
   "outputs": [],
   "source": [
    "data.to_csv('leader-id_special.csv')"
   ]
  },
  {
   "cell_type": "code",
   "execution_count": null,
   "metadata": {
    "collapsed": true
   },
   "outputs": [],
   "source": []
  }
 ],
 "metadata": {
  "kernelspec": {
   "display_name": "Python 3",
   "language": "python",
   "name": "python3"
  },
  "language_info": {
   "codemirror_mode": {
    "name": "ipython",
    "version": 3
   },
   "file_extension": ".py",
   "mimetype": "text/x-python",
   "name": "python",
   "nbconvert_exporter": "python",
   "pygments_lexer": "ipython3",
   "version": "3.6.0"
  }
 },
 "nbformat": 4,
 "nbformat_minor": 2
}
